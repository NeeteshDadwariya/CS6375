{
  "cells": [
    {
      "cell_type": "code",
      "execution_count": 500,
      "metadata": {
        "collapsed": true,
        "id": "pWkPt59WogCd"
      },
      "outputs": [],
      "source": [
        "import pandas as pd\n",
        "import numpy as np\n",
        "import matplotlib.pyplot as plt\n",
        "import seaborn as sb\n",
        "\n",
        "from sklearn.model_selection import train_test_split\n",
        "from sklearn.preprocessing import StandardScaler\n",
        "from sklearn.metrics import mean_squared_error\n",
        "from sklearn.metrics import r2_score"
      ]
    },
    {
      "cell_type": "code",
      "source": [
        "#Using data from the hosted location\n",
        "df = pd.read_excel(\"https://archive.org/download/concrete-data/Concrete_Data.xlsx\")\n",
        "df.head()"
      ],
      "metadata": {
        "colab": {
          "base_uri": "https://localhost:8080/",
          "height": 270
        },
        "id": "MxPjBqDnu3j4",
        "outputId": "b9da038f-bb67-43a1-9f4f-b9de0cded7e5"
      },
      "execution_count": 501,
      "outputs": [
        {
          "output_type": "execute_result",
          "data": {
            "text/html": [
              "\n",
              "  <div id=\"df-152758b3-cc6c-499c-9a6f-e2ed9ec47170\">\n",
              "    <div class=\"colab-df-container\">\n",
              "      <div>\n",
              "<style scoped>\n",
              "    .dataframe tbody tr th:only-of-type {\n",
              "        vertical-align: middle;\n",
              "    }\n",
              "\n",
              "    .dataframe tbody tr th {\n",
              "        vertical-align: top;\n",
              "    }\n",
              "\n",
              "    .dataframe thead th {\n",
              "        text-align: right;\n",
              "    }\n",
              "</style>\n",
              "<table border=\"1\" class=\"dataframe\">\n",
              "  <thead>\n",
              "    <tr style=\"text-align: right;\">\n",
              "      <th></th>\n",
              "      <th>cement_component</th>\n",
              "      <th>blast_furnace_slag</th>\n",
              "      <th>fly_ash_component</th>\n",
              "      <th>water_component</th>\n",
              "      <th>superplasticizer</th>\n",
              "      <th>coarse_agg_component</th>\n",
              "      <th>fine_agg_component</th>\n",
              "      <th>age</th>\n",
              "      <th>concrete_compressive_strength</th>\n",
              "    </tr>\n",
              "  </thead>\n",
              "  <tbody>\n",
              "    <tr>\n",
              "      <th>0</th>\n",
              "      <td>540.0</td>\n",
              "      <td>0.0</td>\n",
              "      <td>0.0</td>\n",
              "      <td>162.0</td>\n",
              "      <td>2.5</td>\n",
              "      <td>1040.0</td>\n",
              "      <td>676.0</td>\n",
              "      <td>28</td>\n",
              "      <td>79.986111</td>\n",
              "    </tr>\n",
              "    <tr>\n",
              "      <th>1</th>\n",
              "      <td>540.0</td>\n",
              "      <td>0.0</td>\n",
              "      <td>0.0</td>\n",
              "      <td>162.0</td>\n",
              "      <td>2.5</td>\n",
              "      <td>1055.0</td>\n",
              "      <td>676.0</td>\n",
              "      <td>28</td>\n",
              "      <td>61.887366</td>\n",
              "    </tr>\n",
              "    <tr>\n",
              "      <th>2</th>\n",
              "      <td>332.5</td>\n",
              "      <td>142.5</td>\n",
              "      <td>0.0</td>\n",
              "      <td>228.0</td>\n",
              "      <td>0.0</td>\n",
              "      <td>932.0</td>\n",
              "      <td>594.0</td>\n",
              "      <td>270</td>\n",
              "      <td>40.269535</td>\n",
              "    </tr>\n",
              "    <tr>\n",
              "      <th>3</th>\n",
              "      <td>332.5</td>\n",
              "      <td>142.5</td>\n",
              "      <td>0.0</td>\n",
              "      <td>228.0</td>\n",
              "      <td>0.0</td>\n",
              "      <td>932.0</td>\n",
              "      <td>594.0</td>\n",
              "      <td>365</td>\n",
              "      <td>41.052780</td>\n",
              "    </tr>\n",
              "    <tr>\n",
              "      <th>4</th>\n",
              "      <td>198.6</td>\n",
              "      <td>132.4</td>\n",
              "      <td>0.0</td>\n",
              "      <td>192.0</td>\n",
              "      <td>0.0</td>\n",
              "      <td>978.4</td>\n",
              "      <td>825.5</td>\n",
              "      <td>360</td>\n",
              "      <td>44.296075</td>\n",
              "    </tr>\n",
              "  </tbody>\n",
              "</table>\n",
              "</div>\n",
              "      <button class=\"colab-df-convert\" onclick=\"convertToInteractive('df-152758b3-cc6c-499c-9a6f-e2ed9ec47170')\"\n",
              "              title=\"Convert this dataframe to an interactive table.\"\n",
              "              style=\"display:none;\">\n",
              "        \n",
              "  <svg xmlns=\"http://www.w3.org/2000/svg\" height=\"24px\"viewBox=\"0 0 24 24\"\n",
              "       width=\"24px\">\n",
              "    <path d=\"M0 0h24v24H0V0z\" fill=\"none\"/>\n",
              "    <path d=\"M18.56 5.44l.94 2.06.94-2.06 2.06-.94-2.06-.94-.94-2.06-.94 2.06-2.06.94zm-11 1L8.5 8.5l.94-2.06 2.06-.94-2.06-.94L8.5 2.5l-.94 2.06-2.06.94zm10 10l.94 2.06.94-2.06 2.06-.94-2.06-.94-.94-2.06-.94 2.06-2.06.94z\"/><path d=\"M17.41 7.96l-1.37-1.37c-.4-.4-.92-.59-1.43-.59-.52 0-1.04.2-1.43.59L10.3 9.45l-7.72 7.72c-.78.78-.78 2.05 0 2.83L4 21.41c.39.39.9.59 1.41.59.51 0 1.02-.2 1.41-.59l7.78-7.78 2.81-2.81c.8-.78.8-2.07 0-2.86zM5.41 20L4 18.59l7.72-7.72 1.47 1.35L5.41 20z\"/>\n",
              "  </svg>\n",
              "      </button>\n",
              "      \n",
              "  <style>\n",
              "    .colab-df-container {\n",
              "      display:flex;\n",
              "      flex-wrap:wrap;\n",
              "      gap: 12px;\n",
              "    }\n",
              "\n",
              "    .colab-df-convert {\n",
              "      background-color: #E8F0FE;\n",
              "      border: none;\n",
              "      border-radius: 50%;\n",
              "      cursor: pointer;\n",
              "      display: none;\n",
              "      fill: #1967D2;\n",
              "      height: 32px;\n",
              "      padding: 0 0 0 0;\n",
              "      width: 32px;\n",
              "    }\n",
              "\n",
              "    .colab-df-convert:hover {\n",
              "      background-color: #E2EBFA;\n",
              "      box-shadow: 0px 1px 2px rgba(60, 64, 67, 0.3), 0px 1px 3px 1px rgba(60, 64, 67, 0.15);\n",
              "      fill: #174EA6;\n",
              "    }\n",
              "\n",
              "    [theme=dark] .colab-df-convert {\n",
              "      background-color: #3B4455;\n",
              "      fill: #D2E3FC;\n",
              "    }\n",
              "\n",
              "    [theme=dark] .colab-df-convert:hover {\n",
              "      background-color: #434B5C;\n",
              "      box-shadow: 0px 1px 3px 1px rgba(0, 0, 0, 0.15);\n",
              "      filter: drop-shadow(0px 1px 2px rgba(0, 0, 0, 0.3));\n",
              "      fill: #FFFFFF;\n",
              "    }\n",
              "  </style>\n",
              "\n",
              "      <script>\n",
              "        const buttonEl =\n",
              "          document.querySelector('#df-152758b3-cc6c-499c-9a6f-e2ed9ec47170 button.colab-df-convert');\n",
              "        buttonEl.style.display =\n",
              "          google.colab.kernel.accessAllowed ? 'block' : 'none';\n",
              "\n",
              "        async function convertToInteractive(key) {\n",
              "          const element = document.querySelector('#df-152758b3-cc6c-499c-9a6f-e2ed9ec47170');\n",
              "          const dataTable =\n",
              "            await google.colab.kernel.invokeFunction('convertToInteractive',\n",
              "                                                     [key], {});\n",
              "          if (!dataTable) return;\n",
              "\n",
              "          const docLinkHtml = 'Like what you see? Visit the ' +\n",
              "            '<a target=\"_blank\" href=https://colab.research.google.com/notebooks/data_table.ipynb>data table notebook</a>'\n",
              "            + ' to learn more about interactive tables.';\n",
              "          element.innerHTML = '';\n",
              "          dataTable['output_type'] = 'display_data';\n",
              "          await google.colab.output.renderOutput(dataTable, element);\n",
              "          const docLink = document.createElement('div');\n",
              "          docLink.innerHTML = docLinkHtml;\n",
              "          element.appendChild(docLink);\n",
              "        }\n",
              "      </script>\n",
              "    </div>\n",
              "  </div>\n",
              "  "
            ],
            "text/plain": [
              "   cement_component  blast_furnace_slag  ...  age  concrete_compressive_strength\n",
              "0             540.0                 0.0  ...   28                      79.986111\n",
              "1             540.0                 0.0  ...   28                      61.887366\n",
              "2             332.5               142.5  ...  270                      40.269535\n",
              "3             332.5               142.5  ...  365                      41.052780\n",
              "4             198.6               132.4  ...  360                      44.296075\n",
              "\n",
              "[5 rows x 9 columns]"
            ]
          },
          "metadata": {},
          "execution_count": 501
        }
      ]
    },
    {
      "cell_type": "code",
      "source": [
        "df.describe()"
      ],
      "metadata": {
        "colab": {
          "base_uri": "https://localhost:8080/",
          "height": 364
        },
        "id": "6Wed4kkAGRE8",
        "outputId": "650efdad-0b9e-45d6-b2a9-96907666d23b"
      },
      "execution_count": 502,
      "outputs": [
        {
          "output_type": "execute_result",
          "data": {
            "text/html": [
              "\n",
              "  <div id=\"df-d1b15b22-045a-4e95-b59c-536355c05199\">\n",
              "    <div class=\"colab-df-container\">\n",
              "      <div>\n",
              "<style scoped>\n",
              "    .dataframe tbody tr th:only-of-type {\n",
              "        vertical-align: middle;\n",
              "    }\n",
              "\n",
              "    .dataframe tbody tr th {\n",
              "        vertical-align: top;\n",
              "    }\n",
              "\n",
              "    .dataframe thead th {\n",
              "        text-align: right;\n",
              "    }\n",
              "</style>\n",
              "<table border=\"1\" class=\"dataframe\">\n",
              "  <thead>\n",
              "    <tr style=\"text-align: right;\">\n",
              "      <th></th>\n",
              "      <th>cement_component</th>\n",
              "      <th>blast_furnace_slag</th>\n",
              "      <th>fly_ash_component</th>\n",
              "      <th>water_component</th>\n",
              "      <th>superplasticizer</th>\n",
              "      <th>coarse_agg_component</th>\n",
              "      <th>fine_agg_component</th>\n",
              "      <th>age</th>\n",
              "      <th>concrete_compressive_strength</th>\n",
              "    </tr>\n",
              "  </thead>\n",
              "  <tbody>\n",
              "    <tr>\n",
              "      <th>count</th>\n",
              "      <td>1030.000000</td>\n",
              "      <td>1030.000000</td>\n",
              "      <td>1030.000000</td>\n",
              "      <td>1030.000000</td>\n",
              "      <td>1030.000000</td>\n",
              "      <td>1030.000000</td>\n",
              "      <td>1030.000000</td>\n",
              "      <td>1030.000000</td>\n",
              "      <td>1030.000000</td>\n",
              "    </tr>\n",
              "    <tr>\n",
              "      <th>mean</th>\n",
              "      <td>281.165631</td>\n",
              "      <td>73.895485</td>\n",
              "      <td>54.187136</td>\n",
              "      <td>181.566359</td>\n",
              "      <td>6.203112</td>\n",
              "      <td>972.918592</td>\n",
              "      <td>773.578883</td>\n",
              "      <td>45.662136</td>\n",
              "      <td>35.817836</td>\n",
              "    </tr>\n",
              "    <tr>\n",
              "      <th>std</th>\n",
              "      <td>104.507142</td>\n",
              "      <td>86.279104</td>\n",
              "      <td>63.996469</td>\n",
              "      <td>21.355567</td>\n",
              "      <td>5.973492</td>\n",
              "      <td>77.753818</td>\n",
              "      <td>80.175427</td>\n",
              "      <td>63.169912</td>\n",
              "      <td>16.705679</td>\n",
              "    </tr>\n",
              "    <tr>\n",
              "      <th>min</th>\n",
              "      <td>102.000000</td>\n",
              "      <td>0.000000</td>\n",
              "      <td>0.000000</td>\n",
              "      <td>121.750000</td>\n",
              "      <td>0.000000</td>\n",
              "      <td>801.000000</td>\n",
              "      <td>594.000000</td>\n",
              "      <td>1.000000</td>\n",
              "      <td>2.331808</td>\n",
              "    </tr>\n",
              "    <tr>\n",
              "      <th>25%</th>\n",
              "      <td>192.375000</td>\n",
              "      <td>0.000000</td>\n",
              "      <td>0.000000</td>\n",
              "      <td>164.900000</td>\n",
              "      <td>0.000000</td>\n",
              "      <td>932.000000</td>\n",
              "      <td>730.950000</td>\n",
              "      <td>7.000000</td>\n",
              "      <td>23.707115</td>\n",
              "    </tr>\n",
              "    <tr>\n",
              "      <th>50%</th>\n",
              "      <td>272.900000</td>\n",
              "      <td>22.000000</td>\n",
              "      <td>0.000000</td>\n",
              "      <td>185.000000</td>\n",
              "      <td>6.350000</td>\n",
              "      <td>968.000000</td>\n",
              "      <td>779.510000</td>\n",
              "      <td>28.000000</td>\n",
              "      <td>34.442774</td>\n",
              "    </tr>\n",
              "    <tr>\n",
              "      <th>75%</th>\n",
              "      <td>350.000000</td>\n",
              "      <td>142.950000</td>\n",
              "      <td>118.270000</td>\n",
              "      <td>192.000000</td>\n",
              "      <td>10.160000</td>\n",
              "      <td>1029.400000</td>\n",
              "      <td>824.000000</td>\n",
              "      <td>56.000000</td>\n",
              "      <td>46.136287</td>\n",
              "    </tr>\n",
              "    <tr>\n",
              "      <th>max</th>\n",
              "      <td>540.000000</td>\n",
              "      <td>359.400000</td>\n",
              "      <td>200.100000</td>\n",
              "      <td>247.000000</td>\n",
              "      <td>32.200000</td>\n",
              "      <td>1145.000000</td>\n",
              "      <td>992.600000</td>\n",
              "      <td>365.000000</td>\n",
              "      <td>82.599225</td>\n",
              "    </tr>\n",
              "  </tbody>\n",
              "</table>\n",
              "</div>\n",
              "      <button class=\"colab-df-convert\" onclick=\"convertToInteractive('df-d1b15b22-045a-4e95-b59c-536355c05199')\"\n",
              "              title=\"Convert this dataframe to an interactive table.\"\n",
              "              style=\"display:none;\">\n",
              "        \n",
              "  <svg xmlns=\"http://www.w3.org/2000/svg\" height=\"24px\"viewBox=\"0 0 24 24\"\n",
              "       width=\"24px\">\n",
              "    <path d=\"M0 0h24v24H0V0z\" fill=\"none\"/>\n",
              "    <path d=\"M18.56 5.44l.94 2.06.94-2.06 2.06-.94-2.06-.94-.94-2.06-.94 2.06-2.06.94zm-11 1L8.5 8.5l.94-2.06 2.06-.94-2.06-.94L8.5 2.5l-.94 2.06-2.06.94zm10 10l.94 2.06.94-2.06 2.06-.94-2.06-.94-.94-2.06-.94 2.06-2.06.94z\"/><path d=\"M17.41 7.96l-1.37-1.37c-.4-.4-.92-.59-1.43-.59-.52 0-1.04.2-1.43.59L10.3 9.45l-7.72 7.72c-.78.78-.78 2.05 0 2.83L4 21.41c.39.39.9.59 1.41.59.51 0 1.02-.2 1.41-.59l7.78-7.78 2.81-2.81c.8-.78.8-2.07 0-2.86zM5.41 20L4 18.59l7.72-7.72 1.47 1.35L5.41 20z\"/>\n",
              "  </svg>\n",
              "      </button>\n",
              "      \n",
              "  <style>\n",
              "    .colab-df-container {\n",
              "      display:flex;\n",
              "      flex-wrap:wrap;\n",
              "      gap: 12px;\n",
              "    }\n",
              "\n",
              "    .colab-df-convert {\n",
              "      background-color: #E8F0FE;\n",
              "      border: none;\n",
              "      border-radius: 50%;\n",
              "      cursor: pointer;\n",
              "      display: none;\n",
              "      fill: #1967D2;\n",
              "      height: 32px;\n",
              "      padding: 0 0 0 0;\n",
              "      width: 32px;\n",
              "    }\n",
              "\n",
              "    .colab-df-convert:hover {\n",
              "      background-color: #E2EBFA;\n",
              "      box-shadow: 0px 1px 2px rgba(60, 64, 67, 0.3), 0px 1px 3px 1px rgba(60, 64, 67, 0.15);\n",
              "      fill: #174EA6;\n",
              "    }\n",
              "\n",
              "    [theme=dark] .colab-df-convert {\n",
              "      background-color: #3B4455;\n",
              "      fill: #D2E3FC;\n",
              "    }\n",
              "\n",
              "    [theme=dark] .colab-df-convert:hover {\n",
              "      background-color: #434B5C;\n",
              "      box-shadow: 0px 1px 3px 1px rgba(0, 0, 0, 0.15);\n",
              "      filter: drop-shadow(0px 1px 2px rgba(0, 0, 0, 0.3));\n",
              "      fill: #FFFFFF;\n",
              "    }\n",
              "  </style>\n",
              "\n",
              "      <script>\n",
              "        const buttonEl =\n",
              "          document.querySelector('#df-d1b15b22-045a-4e95-b59c-536355c05199 button.colab-df-convert');\n",
              "        buttonEl.style.display =\n",
              "          google.colab.kernel.accessAllowed ? 'block' : 'none';\n",
              "\n",
              "        async function convertToInteractive(key) {\n",
              "          const element = document.querySelector('#df-d1b15b22-045a-4e95-b59c-536355c05199');\n",
              "          const dataTable =\n",
              "            await google.colab.kernel.invokeFunction('convertToInteractive',\n",
              "                                                     [key], {});\n",
              "          if (!dataTable) return;\n",
              "\n",
              "          const docLinkHtml = 'Like what you see? Visit the ' +\n",
              "            '<a target=\"_blank\" href=https://colab.research.google.com/notebooks/data_table.ipynb>data table notebook</a>'\n",
              "            + ' to learn more about interactive tables.';\n",
              "          element.innerHTML = '';\n",
              "          dataTable['output_type'] = 'display_data';\n",
              "          await google.colab.output.renderOutput(dataTable, element);\n",
              "          const docLink = document.createElement('div');\n",
              "          docLink.innerHTML = docLinkHtml;\n",
              "          element.appendChild(docLink);\n",
              "        }\n",
              "      </script>\n",
              "    </div>\n",
              "  </div>\n",
              "  "
            ],
            "text/plain": [
              "       cement_component  ...  concrete_compressive_strength\n",
              "count       1030.000000  ...                    1030.000000\n",
              "mean         281.165631  ...                      35.817836\n",
              "std          104.507142  ...                      16.705679\n",
              "min          102.000000  ...                       2.331808\n",
              "25%          192.375000  ...                      23.707115\n",
              "50%          272.900000  ...                      34.442774\n",
              "75%          350.000000  ...                      46.136287\n",
              "max          540.000000  ...                      82.599225\n",
              "\n",
              "[8 rows x 9 columns]"
            ]
          },
          "metadata": {},
          "execution_count": 502
        }
      ]
    },
    {
      "cell_type": "code",
      "source": [
        "#df = (df - df.mean()) / df.std()\n",
        "#df"
      ],
      "metadata": {
        "id": "Y6sCsX-wM6Er"
      },
      "execution_count": 503,
      "outputs": []
    },
    {
      "cell_type": "code",
      "source": [
        "#Constructing heatmap on the dataset\n",
        "correlation_matrix = df.corr().round(2)"
      ],
      "metadata": {
        "id": "mZHXFhlsO6nN"
      },
      "execution_count": 504,
      "outputs": []
    },
    {
      "cell_type": "code",
      "source": [
        "sb.heatmap(data=correlation_matrix, annot=True)"
      ],
      "metadata": {
        "colab": {
          "base_uri": "https://localhost:8080/",
          "height": 436
        },
        "id": "1eb8rjVqPJxh",
        "outputId": "249e5a38-0499-45a3-ffa8-e4a5c72a41c2"
      },
      "execution_count": 505,
      "outputs": [
        {
          "output_type": "execute_result",
          "data": {
            "text/plain": [
              "<matplotlib.axes._subplots.AxesSubplot at 0x7fa983fa9f10>"
            ]
          },
          "metadata": {},
          "execution_count": 505
        },
        {
          "output_type": "display_data",
          "data": {
            "image/png": "[encoded data removed]",
            "text/plain": [
              "<Figure size 432x288 with 2 Axes>"
            ]
          },
          "metadata": {
            "needs_background": "light"
          }
        }
      ]
    },
    {
      "cell_type": "markdown",
      "source": [
        "Thus, we see that the 'cement_component' feature is contributing the most towards the output variable 'concrete_compressive_strength'."
      ],
      "metadata": {
        "id": "VfUyg51mPexS"
      }
    },
    {
      "cell_type": "code",
      "source": [
        "#Preprocessing the data set - checking null values\n",
        "df.isnull().sum()"
      ],
      "metadata": {
        "colab": {
          "base_uri": "https://localhost:8080/"
        },
        "id": "2OLQpE1C4bIv",
        "outputId": "6a75eab0-32d1-44ed-bc48-38a434872c15"
      },
      "execution_count": 506,
      "outputs": [
        {
          "output_type": "execute_result",
          "data": {
            "text/plain": [
              "cement_component                 0\n",
              "blast_furnace_slag               0\n",
              "fly_ash_component                0\n",
              "water_component                  0\n",
              "superplasticizer                 0\n",
              "coarse_agg_component             0\n",
              "fine_agg_component               0\n",
              "age                              0\n",
              "concrete_compressive_strength    0\n",
              "dtype: int64"
            ]
          },
          "metadata": {},
          "execution_count": 506
        }
      ]
    },
    {
      "cell_type": "code",
      "source": [
        "class LinearRegression():\n",
        "\n",
        "  def __init__(self):\n",
        "    self.theta = None;\n",
        "    pass\n",
        "\n",
        "\n",
        "  def pre_processing(self, df):\n",
        "      df = df.dropna()\n",
        "      df = df.drop_duplicates()\n",
        "      return df\n",
        "\n",
        "  def split_X_and_y(self, df):\n",
        "    no_rows, no_cols = df.shape[0], df.shape[1]\n",
        "    X =  df.iloc[:, 0:(no_cols -1)]\n",
        "    y = df.iloc[:, no_cols-1]\n",
        "\n",
        "    return X,y\n",
        "\n",
        "  def scale_data(self, df):\n",
        "    #ss = StandardScaler()\n",
        "    #return pd.DataFrame(ss.fit_transform(df), columns = df.columns)\n",
        "    return (df - df.mean()) / df.std()\n",
        "    #return df\n",
        "\n",
        "  def split_train_test(self, X, y):\n",
        "    return train_test_split(X, y, test_size = 0.2, random_state=5)\n",
        "\n",
        "  def get_vectorX(self, X):\n",
        "    return np.c_[np.ones((len(X),1)), X]\n",
        "\n",
        "  def get_vectorY(self, y):\n",
        "    return np.reshape(y.values,(-1,1))\n",
        "\n",
        "  def get_initial_weights(self, X):\n",
        "    return np.random.rand(X.shape[1] + 1, 1)\n",
        "\n",
        "  def multivariate_gradient(self, X, y, theta):\n",
        "    return 2/len(X)*X.T.dot(X.dot(theta) - y[0])\n",
        "\n",
        "  def fit_with_grad_desc(self, X, y, epochs, rate):\n",
        "      self.theta = self.get_initial_weights(X)\n",
        "      vectorX = self.get_vectorX(X)\n",
        "      vectorY = np.reshape(y.values,(-1,1)) #self.get_vectorY(y)\n",
        "      costs = []\n",
        "      m = len(X)\n",
        "      for i in range(epochs):\n",
        "        gradient = self.multivariate_gradient(vectorX, vectorY, self.theta)\n",
        "        self.theta -= rate*gradient\n",
        "        y_pred = vectorX.dot(self.theta)\n",
        "        cost = 1/(2*m)*(vectorY - y_pred)**2\n",
        "        costs.append(cost.sum())\n",
        "\n",
        "      return costs, self.theta\n",
        "\n",
        "      #Aishwarya\n",
        "      # n_sample = X.shape[0]  #number of samples\n",
        "      # loss = np.ones(epochs)  #creating unit matrix \n",
        "      # ones = np.ones((n_sample,1))  \n",
        "      # X = np.concatenate((ones, X), axis=1)   #Form the new X with old X and X0's as 1\n",
        "      # attr = X.shape[1]   \n",
        "      # self.theta = np.ones(attr)\n",
        "      # hypo = np.dot(X, self.theta)   \n",
        "      \n",
        "      # for i in range (0, epochs):\n",
        "      #   self.theta[0] = self.theta[0] - (rate / X.shape[0]) * sum(hypo-y) #for theta0,x0\n",
        "      #   for j in range(1, attr):\n",
        "      #     self.theta[j]= self.theta[j] - (rate/ X.shape[0]) * sum((hypo-y) * X[:, j])\n",
        "      #   hypo= np.dot(X, self.theta)\n",
        "      #   #Now computing loss\n",
        "      #   loss[i]=1/(n_sample) * sum(np.square(hypo-y))\n",
        "      # return loss, self.theta\n",
        "\n",
        "      #Abshishek\n",
        "      # m = X.shape[0]\n",
        "      # ones =np.ones((m,1))  \n",
        "      # X = np.concatenate((ones, X), axis=1)\n",
        "      # n = X.shape[1]\n",
        "      # W = np.ones(n)\n",
        "      # hyp = np.dot(X, W)\n",
        "\n",
        "      # cost = np.ones(epochs)\n",
        "      # for i in range (0, epochs):\n",
        "      #   W[0] = W[0] - (rate / X.shape[0]) * sum(hyp-y)\n",
        "      #   for j in range(1, n):\n",
        "      #     W[j]= W[j] - (rate/ X.shape[0]) * sum((hyp-y) * X[:, j])\n",
        "      #   hyp  = np.dot(X, W)\n",
        "      #   cost[i] = 1/(2*m)*sum(np.square(hyp-y))\n",
        "\n",
        "      # self.theta = W\n",
        "      # return cost, W\n",
        "\n",
        "  #Predicting on the test dataset    \n",
        "  def predict(self, X_test):\n",
        "    n = X_test.shape[0]\n",
        "    vector_X_test = self.get_vectorX(X_test)\n",
        "    return vector_X_test.dot(self.theta)\n",
        "\n",
        "  def evaluate(self, X_test, y_test, y_pred):\n",
        "    vectorY = self.get_vectorY(y_test)\n",
        "    mse = 1/2*((vectorY - y_pred)**2).mean()\n",
        "    return mse\n",
        "\n",
        "model = LinearRegression()"
      ],
      "metadata": {
        "id": "leBxmsDo248x"
      },
      "execution_count": 507,
      "outputs": []
    },
    {
      "cell_type": "code",
      "source": [
        "df = model.pre_processing(df)\n",
        "df.head()"
      ],
      "metadata": {
        "colab": {
          "base_uri": "https://localhost:8080/",
          "height": 270
        },
        "id": "Y-2RqrVm3_j1",
        "outputId": "1bdb893c-d35c-406d-d45d-62ed31b87158"
      },
      "execution_count": 508,
      "outputs": [
        {
          "output_type": "execute_result",
          "data": {
            "text/html": [
              "\n",
              "  <div id=\"df-b4f2e964-e5fe-4801-8cc1-dd8be9a908d2\">\n",
              "    <div class=\"colab-df-container\">\n",
              "      <div>\n",
              "<style scoped>\n",
              "    .dataframe tbody tr th:only-of-type {\n",
              "        vertical-align: middle;\n",
              "    }\n",
              "\n",
              "    .dataframe tbody tr th {\n",
              "        vertical-align: top;\n",
              "    }\n",
              "\n",
              "    .dataframe thead th {\n",
              "        text-align: right;\n",
              "    }\n",
              "</style>\n",
              "<table border=\"1\" class=\"dataframe\">\n",
              "  <thead>\n",
              "    <tr style=\"text-align: right;\">\n",
              "      <th></th>\n",
              "      <th>cement_component</th>\n",
              "      <th>blast_furnace_slag</th>\n",
              "      <th>fly_ash_component</th>\n",
              "      <th>water_component</th>\n",
              "      <th>superplasticizer</th>\n",
              "      <th>coarse_agg_component</th>\n",
              "      <th>fine_agg_component</th>\n",
              "      <th>age</th>\n",
              "      <th>concrete_compressive_strength</th>\n",
              "    </tr>\n",
              "  </thead>\n",
              "  <tbody>\n",
              "    <tr>\n",
              "      <th>0</th>\n",
              "      <td>540.0</td>\n",
              "      <td>0.0</td>\n",
              "      <td>0.0</td>\n",
              "      <td>162.0</td>\n",
              "      <td>2.5</td>\n",
              "      <td>1040.0</td>\n",
              "      <td>676.0</td>\n",
              "      <td>28</td>\n",
              "      <td>79.986111</td>\n",
              "    </tr>\n",
              "    <tr>\n",
              "      <th>1</th>\n",
              "      <td>540.0</td>\n",
              "      <td>0.0</td>\n",
              "      <td>0.0</td>\n",
              "      <td>162.0</td>\n",
              "      <td>2.5</td>\n",
              "      <td>1055.0</td>\n",
              "      <td>676.0</td>\n",
              "      <td>28</td>\n",
              "      <td>61.887366</td>\n",
              "    </tr>\n",
              "    <tr>\n",
              "      <th>2</th>\n",
              "      <td>332.5</td>\n",
              "      <td>142.5</td>\n",
              "      <td>0.0</td>\n",
              "      <td>228.0</td>\n",
              "      <td>0.0</td>\n",
              "      <td>932.0</td>\n",
              "      <td>594.0</td>\n",
              "      <td>270</td>\n",
              "      <td>40.269535</td>\n",
              "    </tr>\n",
              "    <tr>\n",
              "      <th>3</th>\n",
              "      <td>332.5</td>\n",
              "      <td>142.5</td>\n",
              "      <td>0.0</td>\n",
              "      <td>228.0</td>\n",
              "      <td>0.0</td>\n",
              "      <td>932.0</td>\n",
              "      <td>594.0</td>\n",
              "      <td>365</td>\n",
              "      <td>41.052780</td>\n",
              "    </tr>\n",
              "    <tr>\n",
              "      <th>4</th>\n",
              "      <td>198.6</td>\n",
              "      <td>132.4</td>\n",
              "      <td>0.0</td>\n",
              "      <td>192.0</td>\n",
              "      <td>0.0</td>\n",
              "      <td>978.4</td>\n",
              "      <td>825.5</td>\n",
              "      <td>360</td>\n",
              "      <td>44.296075</td>\n",
              "    </tr>\n",
              "  </tbody>\n",
              "</table>\n",
              "</div>\n",
              "      <button class=\"colab-df-convert\" onclick=\"convertToInteractive('df-b4f2e964-e5fe-4801-8cc1-dd8be9a908d2')\"\n",
              "              title=\"Convert this dataframe to an interactive table.\"\n",
              "              style=\"display:none;\">\n",
              "        \n",
              "  <svg xmlns=\"http://www.w3.org/2000/svg\" height=\"24px\"viewBox=\"0 0 24 24\"\n",
              "       width=\"24px\">\n",
              "    <path d=\"M0 0h24v24H0V0z\" fill=\"none\"/>\n",
              "    <path d=\"M18.56 5.44l.94 2.06.94-2.06 2.06-.94-2.06-.94-.94-2.06-.94 2.06-2.06.94zm-11 1L8.5 8.5l.94-2.06 2.06-.94-2.06-.94L8.5 2.5l-.94 2.06-2.06.94zm10 10l.94 2.06.94-2.06 2.06-.94-2.06-.94-.94-2.06-.94 2.06-2.06.94z\"/><path d=\"M17.41 7.96l-1.37-1.37c-.4-.4-.92-.59-1.43-.59-.52 0-1.04.2-1.43.59L10.3 9.45l-7.72 7.72c-.78.78-.78 2.05 0 2.83L4 21.41c.39.39.9.59 1.41.59.51 0 1.02-.2 1.41-.59l7.78-7.78 2.81-2.81c.8-.78.8-2.07 0-2.86zM5.41 20L4 18.59l7.72-7.72 1.47 1.35L5.41 20z\"/>\n",
              "  </svg>\n",
              "      </button>\n",
              "      \n",
              "  <style>\n",
              "    .colab-df-container {\n",
              "      display:flex;\n",
              "      flex-wrap:wrap;\n",
              "      gap: 12px;\n",
              "    }\n",
              "\n",
              "    .colab-df-convert {\n",
              "      background-color: #E8F0FE;\n",
              "      border: none;\n",
              "      border-radius: 50%;\n",
              "      cursor: pointer;\n",
              "      display: none;\n",
              "      fill: #1967D2;\n",
              "      height: 32px;\n",
              "      padding: 0 0 0 0;\n",
              "      width: 32px;\n",
              "    }\n",
              "\n",
              "    .colab-df-convert:hover {\n",
              "      background-color: #E2EBFA;\n",
              "      box-shadow: 0px 1px 2px rgba(60, 64, 67, 0.3), 0px 1px 3px 1px rgba(60, 64, 67, 0.15);\n",
              "      fill: #174EA6;\n",
              "    }\n",
              "\n",
              "    [theme=dark] .colab-df-convert {\n",
              "      background-color: #3B4455;\n",
              "      fill: #D2E3FC;\n",
              "    }\n",
              "\n",
              "    [theme=dark] .colab-df-convert:hover {\n",
              "      background-color: #434B5C;\n",
              "      box-shadow: 0px 1px 3px 1px rgba(0, 0, 0, 0.15);\n",
              "      filter: drop-shadow(0px 1px 2px rgba(0, 0, 0, 0.3));\n",
              "      fill: #FFFFFF;\n",
              "    }\n",
              "  </style>\n",
              "\n",
              "      <script>\n",
              "        const buttonEl =\n",
              "          document.querySelector('#df-b4f2e964-e5fe-4801-8cc1-dd8be9a908d2 button.colab-df-convert');\n",
              "        buttonEl.style.display =\n",
              "          google.colab.kernel.accessAllowed ? 'block' : 'none';\n",
              "\n",
              "        async function convertToInteractive(key) {\n",
              "          const element = document.querySelector('#df-b4f2e964-e5fe-4801-8cc1-dd8be9a908d2');\n",
              "          const dataTable =\n",
              "            await google.colab.kernel.invokeFunction('convertToInteractive',\n",
              "                                                     [key], {});\n",
              "          if (!dataTable) return;\n",
              "\n",
              "          const docLinkHtml = 'Like what you see? Visit the ' +\n",
              "            '<a target=\"_blank\" href=https://colab.research.google.com/notebooks/data_table.ipynb>data table notebook</a>'\n",
              "            + ' to learn more about interactive tables.';\n",
              "          element.innerHTML = '';\n",
              "          dataTable['output_type'] = 'display_data';\n",
              "          await google.colab.output.renderOutput(dataTable, element);\n",
              "          const docLink = document.createElement('div');\n",
              "          docLink.innerHTML = docLinkHtml;\n",
              "          element.appendChild(docLink);\n",
              "        }\n",
              "      </script>\n",
              "    </div>\n",
              "  </div>\n",
              "  "
            ],
            "text/plain": [
              "   cement_component  blast_furnace_slag  ...  age  concrete_compressive_strength\n",
              "0             540.0                 0.0  ...   28                      79.986111\n",
              "1             540.0                 0.0  ...   28                      61.887366\n",
              "2             332.5               142.5  ...  270                      40.269535\n",
              "3             332.5               142.5  ...  365                      41.052780\n",
              "4             198.6               132.4  ...  360                      44.296075\n",
              "\n",
              "[5 rows x 9 columns]"
            ]
          },
          "metadata": {},
          "execution_count": 508
        }
      ]
    },
    {
      "cell_type": "markdown",
      "source": [
        "Here we do not have any categorical variables in the data, so we do not need to convert it."
      ],
      "metadata": {
        "id": "4olUL_OP4lRI"
      }
    },
    {
      "cell_type": "code",
      "source": [
        "X, y = model.split_X_and_y(df)"
      ],
      "metadata": {
        "id": "nuCBG1Lo6mJ9"
      },
      "execution_count": 509,
      "outputs": []
    },
    {
      "cell_type": "markdown",
      "source": [
        "We would want to scale the data to normalize the deviations."
      ],
      "metadata": {
        "id": "hUZCnCsk_o0j"
      }
    },
    {
      "cell_type": "code",
      "source": [
        "X = X.iloc[:, [0,3,4,7]]\n",
        "X"
      ],
      "metadata": {
        "id": "z7TEd7mVIjOI",
        "outputId": "00499eb9-3ec5-45c6-9c93-b5a445324baf",
        "colab": {
          "base_uri": "https://localhost:8080/",
          "height": 423
        }
      },
      "execution_count": 510,
      "outputs": [
        {
          "output_type": "execute_result",
          "data": {
            "text/html": [
              "\n",
              "  <div id=\"df-6752198a-2d8c-4d4d-aed3-8599abb3bfa3\">\n",
              "    <div class=\"colab-df-container\">\n",
              "      <div>\n",
              "<style scoped>\n",
              "    .dataframe tbody tr th:only-of-type {\n",
              "        vertical-align: middle;\n",
              "    }\n",
              "\n",
              "    .dataframe tbody tr th {\n",
              "        vertical-align: top;\n",
              "    }\n",
              "\n",
              "    .dataframe thead th {\n",
              "        text-align: right;\n",
              "    }\n",
              "</style>\n",
              "<table border=\"1\" class=\"dataframe\">\n",
              "  <thead>\n",
              "    <tr style=\"text-align: right;\">\n",
              "      <th></th>\n",
              "      <th>cement_component</th>\n",
              "      <th>water_component</th>\n",
              "      <th>superplasticizer</th>\n",
              "      <th>age</th>\n",
              "    </tr>\n",
              "  </thead>\n",
              "  <tbody>\n",
              "    <tr>\n",
              "      <th>0</th>\n",
              "      <td>540.0</td>\n",
              "      <td>162.0</td>\n",
              "      <td>2.5</td>\n",
              "      <td>28</td>\n",
              "    </tr>\n",
              "    <tr>\n",
              "      <th>1</th>\n",
              "      <td>540.0</td>\n",
              "      <td>162.0</td>\n",
              "      <td>2.5</td>\n",
              "      <td>28</td>\n",
              "    </tr>\n",
              "    <tr>\n",
              "      <th>2</th>\n",
              "      <td>332.5</td>\n",
              "      <td>228.0</td>\n",
              "      <td>0.0</td>\n",
              "      <td>270</td>\n",
              "    </tr>\n",
              "    <tr>\n",
              "      <th>3</th>\n",
              "      <td>332.5</td>\n",
              "      <td>228.0</td>\n",
              "      <td>0.0</td>\n",
              "      <td>365</td>\n",
              "    </tr>\n",
              "    <tr>\n",
              "      <th>4</th>\n",
              "      <td>198.6</td>\n",
              "      <td>192.0</td>\n",
              "      <td>0.0</td>\n",
              "      <td>360</td>\n",
              "    </tr>\n",
              "    <tr>\n",
              "      <th>...</th>\n",
              "      <td>...</td>\n",
              "      <td>...</td>\n",
              "      <td>...</td>\n",
              "      <td>...</td>\n",
              "    </tr>\n",
              "    <tr>\n",
              "      <th>1025</th>\n",
              "      <td>276.4</td>\n",
              "      <td>179.6</td>\n",
              "      <td>8.9</td>\n",
              "      <td>28</td>\n",
              "    </tr>\n",
              "    <tr>\n",
              "      <th>1026</th>\n",
              "      <td>322.2</td>\n",
              "      <td>196.0</td>\n",
              "      <td>10.4</td>\n",
              "      <td>28</td>\n",
              "    </tr>\n",
              "    <tr>\n",
              "      <th>1027</th>\n",
              "      <td>148.5</td>\n",
              "      <td>192.7</td>\n",
              "      <td>6.1</td>\n",
              "      <td>28</td>\n",
              "    </tr>\n",
              "    <tr>\n",
              "      <th>1028</th>\n",
              "      <td>159.1</td>\n",
              "      <td>175.6</td>\n",
              "      <td>11.3</td>\n",
              "      <td>28</td>\n",
              "    </tr>\n",
              "    <tr>\n",
              "      <th>1029</th>\n",
              "      <td>260.9</td>\n",
              "      <td>200.6</td>\n",
              "      <td>8.6</td>\n",
              "      <td>28</td>\n",
              "    </tr>\n",
              "  </tbody>\n",
              "</table>\n",
              "<p>1005 rows × 4 columns</p>\n",
              "</div>\n",
              "      <button class=\"colab-df-convert\" onclick=\"convertToInteractive('df-6752198a-2d8c-4d4d-aed3-8599abb3bfa3')\"\n",
              "              title=\"Convert this dataframe to an interactive table.\"\n",
              "              style=\"display:none;\">\n",
              "        \n",
              "  <svg xmlns=\"http://www.w3.org/2000/svg\" height=\"24px\"viewBox=\"0 0 24 24\"\n",
              "       width=\"24px\">\n",
              "    <path d=\"M0 0h24v24H0V0z\" fill=\"none\"/>\n",
              "    <path d=\"M18.56 5.44l.94 2.06.94-2.06 2.06-.94-2.06-.94-.94-2.06-.94 2.06-2.06.94zm-11 1L8.5 8.5l.94-2.06 2.06-.94-2.06-.94L8.5 2.5l-.94 2.06-2.06.94zm10 10l.94 2.06.94-2.06 2.06-.94-2.06-.94-.94-2.06-.94 2.06-2.06.94z\"/><path d=\"M17.41 7.96l-1.37-1.37c-.4-.4-.92-.59-1.43-.59-.52 0-1.04.2-1.43.59L10.3 9.45l-7.72 7.72c-.78.78-.78 2.05 0 2.83L4 21.41c.39.39.9.59 1.41.59.51 0 1.02-.2 1.41-.59l7.78-7.78 2.81-2.81c.8-.78.8-2.07 0-2.86zM5.41 20L4 18.59l7.72-7.72 1.47 1.35L5.41 20z\"/>\n",
              "  </svg>\n",
              "      </button>\n",
              "      \n",
              "  <style>\n",
              "    .colab-df-container {\n",
              "      display:flex;\n",
              "      flex-wrap:wrap;\n",
              "      gap: 12px;\n",
              "    }\n",
              "\n",
              "    .colab-df-convert {\n",
              "      background-color: #E8F0FE;\n",
              "      border: none;\n",
              "      border-radius: 50%;\n",
              "      cursor: pointer;\n",
              "      display: none;\n",
              "      fill: #1967D2;\n",
              "      height: 32px;\n",
              "      padding: 0 0 0 0;\n",
              "      width: 32px;\n",
              "    }\n",
              "\n",
              "    .colab-df-convert:hover {\n",
              "      background-color: #E2EBFA;\n",
              "      box-shadow: 0px 1px 2px rgba(60, 64, 67, 0.3), 0px 1px 3px 1px rgba(60, 64, 67, 0.15);\n",
              "      fill: #174EA6;\n",
              "    }\n",
              "\n",
              "    [theme=dark] .colab-df-convert {\n",
              "      background-color: #3B4455;\n",
              "      fill: #D2E3FC;\n",
              "    }\n",
              "\n",
              "    [theme=dark] .colab-df-convert:hover {\n",
              "      background-color: #434B5C;\n",
              "      box-shadow: 0px 1px 3px 1px rgba(0, 0, 0, 0.15);\n",
              "      filter: drop-shadow(0px 1px 2px rgba(0, 0, 0, 0.3));\n",
              "      fill: #FFFFFF;\n",
              "    }\n",
              "  </style>\n",
              "\n",
              "      <script>\n",
              "        const buttonEl =\n",
              "          document.querySelector('#df-6752198a-2d8c-4d4d-aed3-8599abb3bfa3 button.colab-df-convert');\n",
              "        buttonEl.style.display =\n",
              "          google.colab.kernel.accessAllowed ? 'block' : 'none';\n",
              "\n",
              "        async function convertToInteractive(key) {\n",
              "          const element = document.querySelector('#df-6752198a-2d8c-4d4d-aed3-8599abb3bfa3');\n",
              "          const dataTable =\n",
              "            await google.colab.kernel.invokeFunction('convertToInteractive',\n",
              "                                                     [key], {});\n",
              "          if (!dataTable) return;\n",
              "\n",
              "          const docLinkHtml = 'Like what you see? Visit the ' +\n",
              "            '<a target=\"_blank\" href=https://colab.research.google.com/notebooks/data_table.ipynb>data table notebook</a>'\n",
              "            + ' to learn more about interactive tables.';\n",
              "          element.innerHTML = '';\n",
              "          dataTable['output_type'] = 'display_data';\n",
              "          await google.colab.output.renderOutput(dataTable, element);\n",
              "          const docLink = document.createElement('div');\n",
              "          docLink.innerHTML = docLinkHtml;\n",
              "          element.appendChild(docLink);\n",
              "        }\n",
              "      </script>\n",
              "    </div>\n",
              "  </div>\n",
              "  "
            ],
            "text/plain": [
              "      cement_component  water_component  superplasticizer  age\n",
              "0                540.0            162.0               2.5   28\n",
              "1                540.0            162.0               2.5   28\n",
              "2                332.5            228.0               0.0  270\n",
              "3                332.5            228.0               0.0  365\n",
              "4                198.6            192.0               0.0  360\n",
              "...                ...              ...               ...  ...\n",
              "1025             276.4            179.6               8.9   28\n",
              "1026             322.2            196.0              10.4   28\n",
              "1027             148.5            192.7               6.1   28\n",
              "1028             159.1            175.6              11.3   28\n",
              "1029             260.9            200.6               8.6   28\n",
              "\n",
              "[1005 rows x 4 columns]"
            ]
          },
          "metadata": {},
          "execution_count": 510
        }
      ]
    },
    {
      "cell_type": "code",
      "source": [
        "X_train, X_test, y_train, y_test = model.split_train_test(X, y)\n",
        "print(\"X_train shape: \", X_train.shape)\n",
        "print(\"y_train shape: \", y_train.shape)\n",
        "print(\"X_test shape: \", X_test.shape)\n",
        "print(\"y_test shape: \", y_test.shape)"
      ],
      "metadata": {
        "colab": {
          "base_uri": "https://localhost:8080/"
        },
        "id": "pPfg0SNc6z8b",
        "outputId": "ec270e1c-b867-4741-95cb-bc0b7c5bcdf7"
      },
      "execution_count": 511,
      "outputs": [
        {
          "output_type": "stream",
          "name": "stdout",
          "text": [
            "X_train shape:  (804, 4)\n",
            "y_train shape:  (804,)\n",
            "X_test shape:  (201, 4)\n",
            "y_test shape:  (201,)\n"
          ]
        }
      ]
    },
    {
      "cell_type": "code",
      "source": [
        "scaled_X = model.scale_data(X_train)\n",
        "scaled_X.shape"
      ],
      "metadata": {
        "id": "4t22zV3YK24g",
        "outputId": "3eea842d-0116-452c-cf7e-92d99043c1df",
        "colab": {
          "base_uri": "https://localhost:8080/"
        }
      },
      "execution_count": 512,
      "outputs": [
        {
          "output_type": "execute_result",
          "data": {
            "text/plain": [
              "(804, 4)"
            ]
          },
          "metadata": {},
          "execution_count": 512
        }
      ]
    },
    {
      "cell_type": "code",
      "source": [
        "costs, theta = model.fit_with_grad_desc(scaled_X, y_train, 500, 0.01)"
      ],
      "metadata": {
        "id": "tEouE_QH9R0C"
      },
      "execution_count": 513,
      "outputs": []
    },
    {
      "cell_type": "code",
      "source": [
        "print(\"Minimum cost:\", min(costs))\n",
        "print(\"Final weights:\", theta)"
      ],
      "metadata": {
        "colab": {
          "base_uri": "https://localhost:8080/"
        },
        "id": "YnpeUEPWl-kI",
        "outputId": "5a62ff96-0969-4e02-f0f1-ceb5132ce897"
      },
      "execution_count": 514,
      "outputs": [
        {
          "output_type": "stream",
          "name": "stdout",
          "text": [
            "Minimum cost: 135.56965680957026\n",
            "Final weights: [[ 3.66372593e+01]\n",
            " [ 2.03243054e-04]\n",
            " [ 1.72332398e-02]\n",
            " [ 1.62724038e-02]\n",
            " [-2.59788320e-03]]\n"
          ]
        }
      ]
    },
    {
      "cell_type": "code",
      "source": [
        "plt.plot(costs)\n",
        "plt.title('Cost function Graph')\n",
        "plt.xlabel('Number of iterations')\n",
        "plt.ylabel('Cost')"
      ],
      "metadata": {
        "colab": {
          "base_uri": "https://localhost:8080/",
          "height": 313
        },
        "id": "tkdPgOcy6JQw",
        "outputId": "04c5d5dd-d4af-4065-80ea-3d02ee0f8f6d"
      },
      "execution_count": 515,
      "outputs": [
        {
          "output_type": "execute_result",
          "data": {
            "text/plain": [
              "Text(0, 0.5, 'Cost')"
            ]
          },
          "metadata": {},
          "execution_count": 515
        },
        {
          "output_type": "display_data",
          "data": {
            "image/png": "[encoded data removed]",
            "text/plain": [
              "<Figure size 432x288 with 1 Axes>"
            ]
          },
          "metadata": {
            "needs_background": "light"
          }
        }
      ]
    },
    {
      "cell_type": "markdown",
      "source": [
        "## Predicting on test dataset"
      ],
      "metadata": {
        "id": "3B3dfdOOlyOE"
      }
    },
    {
      "cell_type": "markdown",
      "source": [
        "We also need to scale the test data set in accordance to the train data.\n"
      ],
      "metadata": {
        "id": "PXl5WnMNLHXN"
      }
    },
    {
      "cell_type": "code",
      "source": [
        "X_test = model.scale_data(X_test)"
      ],
      "metadata": {
        "id": "phA69Z6MLEUY"
      },
      "execution_count": 516,
      "outputs": []
    },
    {
      "cell_type": "code",
      "source": [
        "y_pred = model.predict(X_test)\n",
        "print(y_test.shape)"
      ],
      "metadata": {
        "colab": {
          "base_uri": "https://localhost:8080/"
        },
        "id": "WQGvcwq9lg42",
        "outputId": "5eaca306-3031-4853-ff78-81200b602461"
      },
      "execution_count": 517,
      "outputs": [
        {
          "output_type": "stream",
          "name": "stdout",
          "text": [
            "(201,)\n"
          ]
        }
      ]
    },
    {
      "cell_type": "code",
      "source": [
        "mse = model.evaluate(X_test, y_test, y_pred)\n",
        "print(mse)"
      ],
      "metadata": {
        "colab": {
          "base_uri": "https://localhost:8080/"
        },
        "id": "SsbgK1rSxzZV",
        "outputId": "0585dad4-1be7-4246-ee91-2ae3222fcf23"
      },
      "execution_count": 518,
      "outputs": [
        {
          "output_type": "stream",
          "name": "stdout",
          "text": [
            "118.06678336537739\n"
          ]
        }
      ]
    },
    {
      "cell_type": "markdown",
      "source": [
        ""
      ],
      "metadata": {
        "id": "JRHh9pr57sbM"
      }
    },
    {
      "cell_type": "code",
      "source": [
        "#Testing on a pre-defined function: from sklearn.preprocessing import StandardScaler\n",
        "from sklearn.linear_model import SGDRegressor\n",
        "from sklearn.metrics import mean_squared_error\n",
        "n_iter=2000\n",
        "sgdtrain = SGDRegressor(max_iter=n_iter)\n",
        "sgdtrain.fit(X_train, y_train)\n",
        "print(\"weights: \", sgdtrain.coef_)\n",
        "y_prediction = sgdtrain.predict(X_test)\n",
        "plt.scatter(y_test,y_prediction)\n",
        "plt.grid()\n",
        "plt.xlabel('Actual Target')\n",
        "plt.ylabel('Predicted Target')\n",
        "plt.title('Scatter plot of actual and predicted targets')\n",
        "plt.show()\n",
        "print('Mean Squared Error:',mean_squared_error(y_test, y_prediction))"
      ],
      "metadata": {
        "id": "xVkvSOTD73IA",
        "outputId": "7781be96-fdd7-4503-e621-23496927cdb2",
        "colab": {
          "base_uri": "https://localhost:8080/",
          "height": 330
        }
      },
      "execution_count": 519,
      "outputs": [
        {
          "output_type": "stream",
          "name": "stdout",
          "text": [
            "weights:  [-1.65887228e+10  1.55297969e+11  8.03457003e+10  1.47258631e+11]\n"
          ]
        },
        {
          "output_type": "display_data",
          "data": {
            "image/png": "[encoded data removed]",
            "text/plain": [
              "<Figure size 432x288 with 1 Axes>"
            ]
          },
          "metadata": {
            "needs_background": "light"
          }
        },
        {
          "output_type": "stream",
          "name": "stdout",
          "text": [
            "Mean Squared Error: 4.493987435046903e+22\n"
          ]
        }
      ]
    },
    {
      "cell_type": "code",
      "source": [
        "theta\n"
      ],
      "metadata": {
        "id": "5p4du9cT9BbI",
        "outputId": "e375eddd-f7ac-44ab-b66c-0d8bbdf7c3b3",
        "colab": {
          "base_uri": "https://localhost:8080/"
        }
      },
      "execution_count": 520,
      "outputs": [
        {
          "output_type": "execute_result",
          "data": {
            "text/plain": [
              "array([[ 3.66372593e+01],\n",
              "       [ 2.03243054e-04],\n",
              "       [ 1.72332398e-02],\n",
              "       [ 1.62724038e-02],\n",
              "       [-2.59788320e-03]])"
            ]
          },
          "metadata": {},
          "execution_count": 520
        }
      ]
    },
    {
      "cell_type": "code",
      "source": [
        "#import numpy\n",
        "#corr_matrix = numpy.corrcoef(y_test[0], y_pred[0])  \n",
        "#corr = corr_matrix[0,1]\n",
        "#R_sq = corr**2\n",
        " \n",
        "#print(R_sq)"
      ],
      "metadata": {
        "id": "xEFbmmql-FWa"
      },
      "execution_count": 521,
      "outputs": []
    },
    {
      "cell_type": "code",
      "source": [
        ""
      ],
      "metadata": {
        "id": "HEB848d8SdJZ"
      },
      "execution_count": 521,
      "outputs": []
    }
  ],
  "metadata": {
    "kernelspec": {
      "display_name": "Python 3",
      "language": "python",
      "name": "python3"
    },
    "language_info": {
      "codemirror_mode": {
        "name": "ipython",
        "version": 2
      },
      "file_extension": ".py",
      "mimetype": "text/x-python",
      "name": "python",
      "nbconvert_exporter": "python",
      "pygments_lexer": "ipython2",
      "version": "2.7.6"
    },
    "colab": {
      "name": "part1.ipynb",
      "provenance": []
    }
  },
  "nbformat": 4,
  "nbformat_minor": 0
}